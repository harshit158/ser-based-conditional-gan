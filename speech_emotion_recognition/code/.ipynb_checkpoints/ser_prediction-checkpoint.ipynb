{
 "cells": [
  {
   "cell_type": "code",
   "execution_count": 2,
   "metadata": {
    "ExecuteTime": {
     "end_time": "2020-08-10T01:49:07.764827Z",
     "start_time": "2020-08-10T01:49:05.845009Z"
    }
   },
   "outputs": [
    {
     "name": "stderr",
     "output_type": "stream",
     "text": [
      "Using TensorFlow backend.\n"
     ]
    }
   ],
   "source": [
    "# import pyaudio\n",
    "import wave\n",
    "import librosa\n",
    "import numpy as np\n",
    "import pandas as pd\n",
    "from sklearn.preprocessing import LabelEncoder\n",
    "from keras import backend as K\n",
    "from keras.models import load_model\n",
    "from keras.optimizers import rmsprop\n",
    "import os"
   ]
  },
  {
   "cell_type": "code",
   "execution_count": null,
   "metadata": {
    "ExecuteTime": {
     "end_time": "2020-08-07T16:15:36.012072Z",
     "start_time": "2020-08-07T16:15:36.000897Z"
    }
   },
   "outputs": [],
   "source": [
    "\"\"\"\n",
    "01 = neutral, -\n",
    "02 = calm, \n",
    "03 = happy, -\n",
    "04 = sad, -\n",
    "05 = angry, -\n",
    "06 = fearful, -\n",
    "07 = disgust, - \n",
    "08 = surprised -\n",
    "\"\"\""
   ]
  },
  {
   "cell_type": "markdown",
   "metadata": {},
   "source": [
    "## Prediction"
   ]
  },
  {
   "cell_type": "code",
   "execution_count": 6,
   "metadata": {
    "ExecuteTime": {
     "end_time": "2020-08-10T01:49:41.551762Z",
     "start_time": "2020-08-10T01:49:41.545953Z"
    }
   },
   "outputs": [],
   "source": [
    "def predict(model_path, file_path):\n",
    "    model = load_model(model_path)\n",
    "\n",
    "    X, sample_rate = librosa.load(file_path, res_type='kaiser_fast',duration=3,sr=22050*2,offset=0.5)\n",
    "    sample_rate = np.array(sample_rate)\n",
    "\n",
    "    opt = rmsprop(lr=0.0001, decay=1e-6)\n",
    "    model.compile(loss='categorical_crossentropy', optimizer=opt, metrics=['accuracy'])\n",
    "\n",
    "    labelled_class_path = './label_classes.npy'\n",
    "    lb = LabelEncoder()\n",
    "    lb.classes_ = np.load(labelled_class_path, allow_pickle=True)\n",
    "    features = np.mean(librosa.feature.mfcc(y=X, sr=sample_rate, n_mfcc=13),axis=0)\n",
    "    features_df= pd.DataFrame(data=features)\n",
    "    features_stacked = features_df.stack().to_frame().T\n",
    "    features_expanded= np.expand_dims(features_stacked, axis=2)\n",
    "    predictions = model.predict(features_expanded, batch_size=512, verbose=1)\n",
    "    predictions_mod = predictions.argmax(axis=1)\n",
    "    preds_flat = predictions_mod.astype(int).flatten()\n",
    "    predictions_array = (lb.inverse_transform((preds_flat)))\n",
    "    \n",
    "    return predictions_array[0]"
   ]
  },
  {
   "cell_type": "code",
   "execution_count": 14,
   "metadata": {
    "ExecuteTime": {
     "end_time": "2020-08-10T01:51:35.769140Z",
     "start_time": "2020-08-10T01:51:35.758202Z"
    }
   },
   "outputs": [],
   "source": [
    "model_path='/'.join(os.path.join(os.getcwd()).split('/')[:-1]) + '/weights/weight.h5'\n",
    "file_path='/'.join(os.path.join(os.getcwd()).split('/')[:-1])+'/data/Audio_Speech_Actors_01-24/Actor_01/03-01-01-01-01-01-01.wav'"
   ]
  },
  {
   "cell_type": "code",
   "execution_count": 7,
   "metadata": {
    "ExecuteTime": {
     "end_time": "2020-08-10T01:49:50.944270Z",
     "start_time": "2020-08-10T01:49:50.936070Z"
    }
   },
   "outputs": [],
   "source": [
    "predict(model_path, file_path)"
   ]
  }
 ],
 "metadata": {
  "kernelspec": {
   "display_name": "my-projects-env",
   "language": "python",
   "name": "my-projects-env"
  },
  "language_info": {
   "codemirror_mode": {
    "name": "ipython",
    "version": 3
   },
   "file_extension": ".py",
   "mimetype": "text/x-python",
   "name": "python",
   "nbconvert_exporter": "python",
   "pygments_lexer": "ipython3",
   "version": "3.6.8"
  }
 },
 "nbformat": 4,
 "nbformat_minor": 2
}
