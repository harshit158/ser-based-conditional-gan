{
 "cells": [
  {
   "cell_type": "code",
   "execution_count": null,
   "metadata": {
    "ExecuteTime": {
     "end_time": "2020-08-09T18:59:22.818657Z",
     "start_time": "2020-08-09T18:59:19.333267Z"
    }
   },
   "outputs": [],
   "source": [
    "from keras.models import load_model\n",
    "from numpy import asarray\n",
    "import pandas as pd\n",
    "import numpy as np\n",
    "import matplotlib.pyplot as plt"
   ]
  },
  {
   "cell_type": "code",
   "execution_count": null,
   "metadata": {
    "ExecuteTime": {
     "end_time": "2020-08-09T18:59:22.823588Z",
     "start_time": "2020-08-09T18:59:22.821162Z"
    }
   },
   "outputs": [],
   "source": [
    "weights_path = '../weights/'"
   ]
  },
  {
   "cell_type": "code",
   "execution_count": null,
   "metadata": {
    "ExecuteTime": {
     "end_time": "2020-08-09T18:59:23.206216Z",
     "start_time": "2020-08-09T18:59:22.825577Z"
    }
   },
   "outputs": [],
   "source": [
    "def generate_latent_points(latent_dim, n_samples, n_classes=10):\n",
    "    x_input = randn(latent_dim * n_samples)\n",
    "    # reshape into a batch of inputs for the network\n",
    "    z_input = x_input.reshape(n_samples, latent_dim)\n",
    "    # generate labels\n",
    "    labels = randint(0, n_classes, n_samples)\n",
    "    return [z_input, labels]\n",
    "\n",
    "# create and save a plot of generated images\n",
    "def save_plot(examples, n):\n",
    "    # plot images\n",
    "    pyplot.figure(figsize=(10,7))\n",
    "    for i in range(n * n):\n",
    "        pyplot.subplot(n, n, 1 + i)\n",
    "        pyplot.axis('off')\n",
    "        pyplot.imshow(examples[i, :, :, 0], cmap='gray')\n",
    "    pyplot.show()\n",
    "\n",
    "model = load_model(weights_path+'cgan_epoch{}.h5'.format(220))\n",
    "\n",
    "latent_points, labels = generate_latent_points(100, 70, n_classes=7)\n",
    "labels = asarray([x for _ in range(10) for x in range(7)])\n",
    "\n",
    "# generate images 10*7\n",
    "X  = model.predict([latent_points, labels])\n",
    "# scale from [-1,1] to [0,1]\n",
    "X = (X + 1) / 2.0\n",
    "# plot the result\n",
    "save_plot(X, 7)"
   ]
  },
  {
   "cell_type": "markdown",
   "metadata": {},
   "source": [
    "### Generate Image"
   ]
  },
  {
   "cell_type": "markdown",
   "metadata": {},
   "source": [
    "##### emotion = {0:'angry', 1:'disgusted', 2:'fearful', 3:'happy', 4: 'sad', 5:'surprised', 6:'neutral'}"
   ]
  },
  {
   "cell_type": "code",
   "execution_count": null,
   "metadata": {},
   "outputs": [],
   "source": [
    "def generate_img(emotion):\n",
    "    x_input = randn(100 * 1)\n",
    "    z_input = x_input.reshape(1, 100)\n",
    "    X = model.predict([z_input, np.asarray([emotion])])\n",
    "    X = (X + 1) / 2.0\n",
    "    pyplot.imshow(X[0, :, :, 0], cmap='gray')\n",
    "\n",
    "model = load_model(data_path+'weights/cgan_epoch{}.h5'.format(220))\n",
    "generate_img(3)"
   ]
  },
  {
   "cell_type": "code",
   "execution_count": null,
   "metadata": {},
   "outputs": [],
   "source": [
    "generate_img(0) ## emotion = 'angry' because input is 0"
   ]
  },
  {
   "cell_type": "code",
   "execution_count": null,
   "metadata": {},
   "outputs": [],
   "source": []
  }
 ],
 "metadata": {
  "kernelspec": {
   "display_name": "Python 3",
   "language": "python",
   "name": "python3"
  },
  "language_info": {
   "codemirror_mode": {
    "name": "ipython",
    "version": 3
   },
   "file_extension": ".py",
   "mimetype": "text/x-python",
   "name": "python",
   "nbconvert_exporter": "python",
   "pygments_lexer": "ipython3",
   "version": "3.7.6"
  }
 },
 "nbformat": 4,
 "nbformat_minor": 4
}
